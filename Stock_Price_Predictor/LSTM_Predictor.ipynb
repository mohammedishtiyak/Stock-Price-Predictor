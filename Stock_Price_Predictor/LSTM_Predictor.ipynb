{
 "cells": [
  {
   "cell_type": "markdown",
   "id": "11980ff2",
   "metadata": {},
   "source": [
    "# Stock Market Price Predictor"
   ]
  },
  {
   "cell_type": "code",
   "execution_count": 4,
   "id": "4b01cea0",
   "metadata": {},
   "outputs": [],
   "source": [
    "import pandas as pd \n",
    "import matplotlib.pyplot as plt\n",
    "import numpy as np"
   ]
  },
  {
   "cell_type": "markdown",
   "id": "25099b36",
   "metadata": {},
   "source": [
    "##### Downloading NFLX Stock Data using Yahoo Finance"
   ]
  },
  {
   "cell_type": "code",
   "execution_count": 5,
   "id": "fdf25f37",
   "metadata": {},
   "outputs": [
    {
     "name": "stdout",
     "output_type": "stream",
     "text": [
      "[*********************100%***********************]  1 of 1 completed\n"
     ]
    }
   ],
   "source": [
    "from pandas_datareader import data as pdr\n",
    "start = \"2010-01-01\"\n",
    "end = \"2022-12-31\"\n",
    "import yfinance as yf\n",
    "yf.pdr_override() \n",
    "# download dataframe\n",
    "df = pdr.get_data_yahoo(\"NFLX\", start, end)"
   ]
  },
  {
   "cell_type": "code",
   "execution_count": 6,
   "id": "8fa98f55",
   "metadata": {},
   "outputs": [
    {
     "data": {
      "text/html": [
       "<div>\n",
       "<style scoped>\n",
       "    .dataframe tbody tr th:only-of-type {\n",
       "        vertical-align: middle;\n",
       "    }\n",
       "\n",
       "    .dataframe tbody tr th {\n",
       "        vertical-align: top;\n",
       "    }\n",
       "\n",
       "    .dataframe thead th {\n",
       "        text-align: right;\n",
       "    }\n",
       "</style>\n",
       "<table border=\"1\" class=\"dataframe\">\n",
       "  <thead>\n",
       "    <tr style=\"text-align: right;\">\n",
       "      <th></th>\n",
       "      <th>Open</th>\n",
       "      <th>High</th>\n",
       "      <th>Low</th>\n",
       "      <th>Close</th>\n",
       "      <th>Adj Close</th>\n",
       "      <th>Volume</th>\n",
       "    </tr>\n",
       "    <tr>\n",
       "      <th>Date</th>\n",
       "      <th></th>\n",
       "      <th></th>\n",
       "      <th></th>\n",
       "      <th></th>\n",
       "      <th></th>\n",
       "      <th></th>\n",
       "    </tr>\n",
       "  </thead>\n",
       "  <tbody>\n",
       "    <tr>\n",
       "      <th>2022-12-23</th>\n",
       "      <td>296.179993</td>\n",
       "      <td>298.459991</td>\n",
       "      <td>291.910004</td>\n",
       "      <td>294.959991</td>\n",
       "      <td>294.959991</td>\n",
       "      <td>4251100</td>\n",
       "    </tr>\n",
       "    <tr>\n",
       "      <th>2022-12-27</th>\n",
       "      <td>293.190002</td>\n",
       "      <td>293.570007</td>\n",
       "      <td>282.130005</td>\n",
       "      <td>284.170013</td>\n",
       "      <td>284.170013</td>\n",
       "      <td>5778100</td>\n",
       "    </tr>\n",
       "    <tr>\n",
       "      <th>2022-12-28</th>\n",
       "      <td>281.920013</td>\n",
       "      <td>285.190002</td>\n",
       "      <td>273.410004</td>\n",
       "      <td>276.880005</td>\n",
       "      <td>276.880005</td>\n",
       "      <td>5964400</td>\n",
       "    </tr>\n",
       "    <tr>\n",
       "      <th>2022-12-29</th>\n",
       "      <td>283.179993</td>\n",
       "      <td>295.500000</td>\n",
       "      <td>281.010010</td>\n",
       "      <td>291.119995</td>\n",
       "      <td>291.119995</td>\n",
       "      <td>9588500</td>\n",
       "    </tr>\n",
       "    <tr>\n",
       "      <th>2022-12-30</th>\n",
       "      <td>285.529999</td>\n",
       "      <td>295.010010</td>\n",
       "      <td>283.220001</td>\n",
       "      <td>294.880005</td>\n",
       "      <td>294.880005</td>\n",
       "      <td>7566900</td>\n",
       "    </tr>\n",
       "  </tbody>\n",
       "</table>\n",
       "</div>"
      ],
      "text/plain": [
       "                  Open        High         Low       Close   Adj Close   \n",
       "Date                                                                     \n",
       "2022-12-23  296.179993  298.459991  291.910004  294.959991  294.959991  \\\n",
       "2022-12-27  293.190002  293.570007  282.130005  284.170013  284.170013   \n",
       "2022-12-28  281.920013  285.190002  273.410004  276.880005  276.880005   \n",
       "2022-12-29  283.179993  295.500000  281.010010  291.119995  291.119995   \n",
       "2022-12-30  285.529999  295.010010  283.220001  294.880005  294.880005   \n",
       "\n",
       "             Volume  \n",
       "Date                 \n",
       "2022-12-23  4251100  \n",
       "2022-12-27  5778100  \n",
       "2022-12-28  5964400  \n",
       "2022-12-29  9588500  \n",
       "2022-12-30  7566900  "
      ]
     },
     "execution_count": 6,
     "metadata": {},
     "output_type": "execute_result"
    }
   ],
   "source": [
    "df.tail()"
   ]
  },
  {
   "cell_type": "code",
   "execution_count": 7,
   "id": "6f1954bb",
   "metadata": {},
   "outputs": [
    {
     "data": {
      "text/html": [
       "<div>\n",
       "<style scoped>\n",
       "    .dataframe tbody tr th:only-of-type {\n",
       "        vertical-align: middle;\n",
       "    }\n",
       "\n",
       "    .dataframe tbody tr th {\n",
       "        vertical-align: top;\n",
       "    }\n",
       "\n",
       "    .dataframe thead th {\n",
       "        text-align: right;\n",
       "    }\n",
       "</style>\n",
       "<table border=\"1\" class=\"dataframe\">\n",
       "  <thead>\n",
       "    <tr style=\"text-align: right;\">\n",
       "      <th></th>\n",
       "      <th>Open</th>\n",
       "      <th>High</th>\n",
       "      <th>Low</th>\n",
       "      <th>Close</th>\n",
       "      <th>Adj Close</th>\n",
       "      <th>Volume</th>\n",
       "    </tr>\n",
       "    <tr>\n",
       "      <th>Date</th>\n",
       "      <th></th>\n",
       "      <th></th>\n",
       "      <th></th>\n",
       "      <th></th>\n",
       "      <th></th>\n",
       "      <th></th>\n",
       "    </tr>\n",
       "  </thead>\n",
       "  <tbody>\n",
       "    <tr>\n",
       "      <th>2010-01-04</th>\n",
       "      <td>7.931429</td>\n",
       "      <td>7.961429</td>\n",
       "      <td>7.565714</td>\n",
       "      <td>7.640000</td>\n",
       "      <td>7.640000</td>\n",
       "      <td>17239600</td>\n",
       "    </tr>\n",
       "    <tr>\n",
       "      <th>2010-01-05</th>\n",
       "      <td>7.652857</td>\n",
       "      <td>7.657143</td>\n",
       "      <td>7.258571</td>\n",
       "      <td>7.358571</td>\n",
       "      <td>7.358571</td>\n",
       "      <td>23753100</td>\n",
       "    </tr>\n",
       "    <tr>\n",
       "      <th>2010-01-06</th>\n",
       "      <td>7.361429</td>\n",
       "      <td>7.672857</td>\n",
       "      <td>7.197143</td>\n",
       "      <td>7.617143</td>\n",
       "      <td>7.617143</td>\n",
       "      <td>23290400</td>\n",
       "    </tr>\n",
       "    <tr>\n",
       "      <th>2010-01-07</th>\n",
       "      <td>7.731429</td>\n",
       "      <td>7.757143</td>\n",
       "      <td>7.462857</td>\n",
       "      <td>7.485714</td>\n",
       "      <td>7.485714</td>\n",
       "      <td>9955400</td>\n",
       "    </tr>\n",
       "    <tr>\n",
       "      <th>2010-01-08</th>\n",
       "      <td>7.498571</td>\n",
       "      <td>7.742857</td>\n",
       "      <td>7.465714</td>\n",
       "      <td>7.614286</td>\n",
       "      <td>7.614286</td>\n",
       "      <td>8180900</td>\n",
       "    </tr>\n",
       "    <tr>\n",
       "      <th>2010-01-11</th>\n",
       "      <td>7.660000</td>\n",
       "      <td>7.704286</td>\n",
       "      <td>7.528571</td>\n",
       "      <td>7.604286</td>\n",
       "      <td>7.604286</td>\n",
       "      <td>6783700</td>\n",
       "    </tr>\n",
       "    <tr>\n",
       "      <th>2010-01-12</th>\n",
       "      <td>7.528571</td>\n",
       "      <td>7.582857</td>\n",
       "      <td>7.451429</td>\n",
       "      <td>7.481429</td>\n",
       "      <td>7.481429</td>\n",
       "      <td>6330100</td>\n",
       "    </tr>\n",
       "    <tr>\n",
       "      <th>2010-01-13</th>\n",
       "      <td>7.612857</td>\n",
       "      <td>7.754286</td>\n",
       "      <td>7.558571</td>\n",
       "      <td>7.708571</td>\n",
       "      <td>7.708571</td>\n",
       "      <td>14422100</td>\n",
       "    </tr>\n",
       "    <tr>\n",
       "      <th>2010-01-14</th>\n",
       "      <td>7.518571</td>\n",
       "      <td>7.575714</td>\n",
       "      <td>7.270000</td>\n",
       "      <td>7.284286</td>\n",
       "      <td>7.284286</td>\n",
       "      <td>17685500</td>\n",
       "    </tr>\n",
       "    <tr>\n",
       "      <th>2010-01-15</th>\n",
       "      <td>7.245714</td>\n",
       "      <td>7.407143</td>\n",
       "      <td>7.232857</td>\n",
       "      <td>7.278571</td>\n",
       "      <td>7.278571</td>\n",
       "      <td>13031200</td>\n",
       "    </tr>\n",
       "    <tr>\n",
       "      <th>2010-01-19</th>\n",
       "      <td>7.250000</td>\n",
       "      <td>7.382857</td>\n",
       "      <td>7.242857</td>\n",
       "      <td>7.314286</td>\n",
       "      <td>7.314286</td>\n",
       "      <td>5302500</td>\n",
       "    </tr>\n",
       "    <tr>\n",
       "      <th>2010-01-20</th>\n",
       "      <td>7.265714</td>\n",
       "      <td>7.492857</td>\n",
       "      <td>7.221429</td>\n",
       "      <td>7.320000</td>\n",
       "      <td>7.320000</td>\n",
       "      <td>9685200</td>\n",
       "    </tr>\n",
       "    <tr>\n",
       "      <th>2010-01-21</th>\n",
       "      <td>7.217143</td>\n",
       "      <td>7.454286</td>\n",
       "      <td>7.214286</td>\n",
       "      <td>7.312857</td>\n",
       "      <td>7.312857</td>\n",
       "      <td>8614900</td>\n",
       "    </tr>\n",
       "    <tr>\n",
       "      <th>2010-01-22</th>\n",
       "      <td>7.297143</td>\n",
       "      <td>7.484286</td>\n",
       "      <td>7.214286</td>\n",
       "      <td>7.270000</td>\n",
       "      <td>7.270000</td>\n",
       "      <td>9395400</td>\n",
       "    </tr>\n",
       "    <tr>\n",
       "      <th>2010-01-25</th>\n",
       "      <td>7.292857</td>\n",
       "      <td>7.357143</td>\n",
       "      <td>6.931429</td>\n",
       "      <td>7.018571</td>\n",
       "      <td>7.018571</td>\n",
       "      <td>13791400</td>\n",
       "    </tr>\n",
       "    <tr>\n",
       "      <th>2010-01-26</th>\n",
       "      <td>6.960000</td>\n",
       "      <td>7.178571</td>\n",
       "      <td>6.937143</td>\n",
       "      <td>7.135714</td>\n",
       "      <td>7.135714</td>\n",
       "      <td>11343500</td>\n",
       "    </tr>\n",
       "    <tr>\n",
       "      <th>2010-01-27</th>\n",
       "      <td>7.142857</td>\n",
       "      <td>7.311429</td>\n",
       "      <td>6.992857</td>\n",
       "      <td>7.281429</td>\n",
       "      <td>7.281429</td>\n",
       "      <td>23347100</td>\n",
       "    </tr>\n",
       "    <tr>\n",
       "      <th>2010-01-28</th>\n",
       "      <td>8.812857</td>\n",
       "      <td>9.121429</td>\n",
       "      <td>8.675714</td>\n",
       "      <td>9.005714</td>\n",
       "      <td>9.005714</td>\n",
       "      <td>77352800</td>\n",
       "    </tr>\n",
       "    <tr>\n",
       "      <th>2010-01-29</th>\n",
       "      <td>8.962857</td>\n",
       "      <td>9.224286</td>\n",
       "      <td>8.792857</td>\n",
       "      <td>8.892857</td>\n",
       "      <td>8.892857</td>\n",
       "      <td>24604300</td>\n",
       "    </tr>\n",
       "    <tr>\n",
       "      <th>2010-02-01</th>\n",
       "      <td>8.830000</td>\n",
       "      <td>8.981429</td>\n",
       "      <td>8.532857</td>\n",
       "      <td>8.718571</td>\n",
       "      <td>8.718571</td>\n",
       "      <td>18914000</td>\n",
       "    </tr>\n",
       "  </tbody>\n",
       "</table>\n",
       "</div>"
      ],
      "text/plain": [
       "                Open      High       Low     Close  Adj Close    Volume\n",
       "Date                                                                   \n",
       "2010-01-04  7.931429  7.961429  7.565714  7.640000   7.640000  17239600\n",
       "2010-01-05  7.652857  7.657143  7.258571  7.358571   7.358571  23753100\n",
       "2010-01-06  7.361429  7.672857  7.197143  7.617143   7.617143  23290400\n",
       "2010-01-07  7.731429  7.757143  7.462857  7.485714   7.485714   9955400\n",
       "2010-01-08  7.498571  7.742857  7.465714  7.614286   7.614286   8180900\n",
       "2010-01-11  7.660000  7.704286  7.528571  7.604286   7.604286   6783700\n",
       "2010-01-12  7.528571  7.582857  7.451429  7.481429   7.481429   6330100\n",
       "2010-01-13  7.612857  7.754286  7.558571  7.708571   7.708571  14422100\n",
       "2010-01-14  7.518571  7.575714  7.270000  7.284286   7.284286  17685500\n",
       "2010-01-15  7.245714  7.407143  7.232857  7.278571   7.278571  13031200\n",
       "2010-01-19  7.250000  7.382857  7.242857  7.314286   7.314286   5302500\n",
       "2010-01-20  7.265714  7.492857  7.221429  7.320000   7.320000   9685200\n",
       "2010-01-21  7.217143  7.454286  7.214286  7.312857   7.312857   8614900\n",
       "2010-01-22  7.297143  7.484286  7.214286  7.270000   7.270000   9395400\n",
       "2010-01-25  7.292857  7.357143  6.931429  7.018571   7.018571  13791400\n",
       "2010-01-26  6.960000  7.178571  6.937143  7.135714   7.135714  11343500\n",
       "2010-01-27  7.142857  7.311429  6.992857  7.281429   7.281429  23347100\n",
       "2010-01-28  8.812857  9.121429  8.675714  9.005714   9.005714  77352800\n",
       "2010-01-29  8.962857  9.224286  8.792857  8.892857   8.892857  24604300\n",
       "2010-02-01  8.830000  8.981429  8.532857  8.718571   8.718571  18914000"
      ]
     },
     "execution_count": 7,
     "metadata": {},
     "output_type": "execute_result"
    }
   ],
   "source": [
    "df.head(20)"
   ]
  },
  {
   "cell_type": "markdown",
   "id": "4cdc1fb6",
   "metadata": {},
   "source": [
    "Resetting Index..."
   ]
  },
  {
   "cell_type": "code",
   "execution_count": 8,
   "id": "2dcf16b0",
   "metadata": {},
   "outputs": [
    {
     "data": {
      "text/html": [
       "<div>\n",
       "<style scoped>\n",
       "    .dataframe tbody tr th:only-of-type {\n",
       "        vertical-align: middle;\n",
       "    }\n",
       "\n",
       "    .dataframe tbody tr th {\n",
       "        vertical-align: top;\n",
       "    }\n",
       "\n",
       "    .dataframe thead th {\n",
       "        text-align: right;\n",
       "    }\n",
       "</style>\n",
       "<table border=\"1\" class=\"dataframe\">\n",
       "  <thead>\n",
       "    <tr style=\"text-align: right;\">\n",
       "      <th></th>\n",
       "      <th>Date</th>\n",
       "      <th>Open</th>\n",
       "      <th>High</th>\n",
       "      <th>Low</th>\n",
       "      <th>Close</th>\n",
       "      <th>Adj Close</th>\n",
       "      <th>Volume</th>\n",
       "    </tr>\n",
       "  </thead>\n",
       "  <tbody>\n",
       "    <tr>\n",
       "      <th>0</th>\n",
       "      <td>2010-01-04</td>\n",
       "      <td>7.931429</td>\n",
       "      <td>7.961429</td>\n",
       "      <td>7.565714</td>\n",
       "      <td>7.640000</td>\n",
       "      <td>7.640000</td>\n",
       "      <td>17239600</td>\n",
       "    </tr>\n",
       "    <tr>\n",
       "      <th>1</th>\n",
       "      <td>2010-01-05</td>\n",
       "      <td>7.652857</td>\n",
       "      <td>7.657143</td>\n",
       "      <td>7.258571</td>\n",
       "      <td>7.358571</td>\n",
       "      <td>7.358571</td>\n",
       "      <td>23753100</td>\n",
       "    </tr>\n",
       "    <tr>\n",
       "      <th>2</th>\n",
       "      <td>2010-01-06</td>\n",
       "      <td>7.361429</td>\n",
       "      <td>7.672857</td>\n",
       "      <td>7.197143</td>\n",
       "      <td>7.617143</td>\n",
       "      <td>7.617143</td>\n",
       "      <td>23290400</td>\n",
       "    </tr>\n",
       "    <tr>\n",
       "      <th>3</th>\n",
       "      <td>2010-01-07</td>\n",
       "      <td>7.731429</td>\n",
       "      <td>7.757143</td>\n",
       "      <td>7.462857</td>\n",
       "      <td>7.485714</td>\n",
       "      <td>7.485714</td>\n",
       "      <td>9955400</td>\n",
       "    </tr>\n",
       "    <tr>\n",
       "      <th>4</th>\n",
       "      <td>2010-01-08</td>\n",
       "      <td>7.498571</td>\n",
       "      <td>7.742857</td>\n",
       "      <td>7.465714</td>\n",
       "      <td>7.614286</td>\n",
       "      <td>7.614286</td>\n",
       "      <td>8180900</td>\n",
       "    </tr>\n",
       "  </tbody>\n",
       "</table>\n",
       "</div>"
      ],
      "text/plain": [
       "        Date      Open      High       Low     Close  Adj Close    Volume\n",
       "0 2010-01-04  7.931429  7.961429  7.565714  7.640000   7.640000  17239600\n",
       "1 2010-01-05  7.652857  7.657143  7.258571  7.358571   7.358571  23753100\n",
       "2 2010-01-06  7.361429  7.672857  7.197143  7.617143   7.617143  23290400\n",
       "3 2010-01-07  7.731429  7.757143  7.462857  7.485714   7.485714   9955400\n",
       "4 2010-01-08  7.498571  7.742857  7.465714  7.614286   7.614286   8180900"
      ]
     },
     "execution_count": 8,
     "metadata": {},
     "output_type": "execute_result"
    }
   ],
   "source": [
    "df = df.reset_index()\n",
    "df.head()"
   ]
  },
  {
   "cell_type": "code",
   "execution_count": 9,
   "id": "f7e9fa73",
   "metadata": {},
   "outputs": [
    {
     "data": {
      "text/html": [
       "<div>\n",
       "<style scoped>\n",
       "    .dataframe tbody tr th:only-of-type {\n",
       "        vertical-align: middle;\n",
       "    }\n",
       "\n",
       "    .dataframe tbody tr th {\n",
       "        vertical-align: top;\n",
       "    }\n",
       "\n",
       "    .dataframe thead th {\n",
       "        text-align: right;\n",
       "    }\n",
       "</style>\n",
       "<table border=\"1\" class=\"dataframe\">\n",
       "  <thead>\n",
       "    <tr style=\"text-align: right;\">\n",
       "      <th></th>\n",
       "      <th>Open</th>\n",
       "      <th>High</th>\n",
       "      <th>Low</th>\n",
       "      <th>Close</th>\n",
       "      <th>Volume</th>\n",
       "    </tr>\n",
       "  </thead>\n",
       "  <tbody>\n",
       "    <tr>\n",
       "      <th>0</th>\n",
       "      <td>7.931429</td>\n",
       "      <td>7.961429</td>\n",
       "      <td>7.565714</td>\n",
       "      <td>7.640000</td>\n",
       "      <td>17239600</td>\n",
       "    </tr>\n",
       "    <tr>\n",
       "      <th>1</th>\n",
       "      <td>7.652857</td>\n",
       "      <td>7.657143</td>\n",
       "      <td>7.258571</td>\n",
       "      <td>7.358571</td>\n",
       "      <td>23753100</td>\n",
       "    </tr>\n",
       "    <tr>\n",
       "      <th>2</th>\n",
       "      <td>7.361429</td>\n",
       "      <td>7.672857</td>\n",
       "      <td>7.197143</td>\n",
       "      <td>7.617143</td>\n",
       "      <td>23290400</td>\n",
       "    </tr>\n",
       "    <tr>\n",
       "      <th>3</th>\n",
       "      <td>7.731429</td>\n",
       "      <td>7.757143</td>\n",
       "      <td>7.462857</td>\n",
       "      <td>7.485714</td>\n",
       "      <td>9955400</td>\n",
       "    </tr>\n",
       "    <tr>\n",
       "      <th>4</th>\n",
       "      <td>7.498571</td>\n",
       "      <td>7.742857</td>\n",
       "      <td>7.465714</td>\n",
       "      <td>7.614286</td>\n",
       "      <td>8180900</td>\n",
       "    </tr>\n",
       "  </tbody>\n",
       "</table>\n",
       "</div>"
      ],
      "text/plain": [
       "       Open      High       Low     Close    Volume\n",
       "0  7.931429  7.961429  7.565714  7.640000  17239600\n",
       "1  7.652857  7.657143  7.258571  7.358571  23753100\n",
       "2  7.361429  7.672857  7.197143  7.617143  23290400\n",
       "3  7.731429  7.757143  7.462857  7.485714   9955400\n",
       "4  7.498571  7.742857  7.465714  7.614286   8180900"
      ]
     },
     "execution_count": 9,
     "metadata": {},
     "output_type": "execute_result"
    }
   ],
   "source": [
    "df = df.drop(['Adj Close', 'Date'], axis = 1)\n",
    "df.head()"
   ]
  },
  {
   "cell_type": "code",
   "execution_count": 10,
   "id": "615818a7",
   "metadata": {},
   "outputs": [
    {
     "data": {
      "text/plain": [
       "[<matplotlib.lines.Line2D at 0x7f89483bf2e0>]"
      ]
     },
     "execution_count": 10,
     "metadata": {},
     "output_type": "execute_result"
    },
    {
     "data": {
      "image/png": "[encoded data removed]",
      "text/plain": [
       "<Figure size 640x480 with 1 Axes>"
      ]
     },
     "metadata": {},
     "output_type": "display_data"
    }
   ],
   "source": [
    "plt.plot(df.Close)"
   ]
  },
  {
   "cell_type": "code",
   "execution_count": 11,
   "id": "194e62d3",
   "metadata": {},
   "outputs": [
    {
     "data": {
      "text/html": [
       "<div>\n",
       "<style scoped>\n",
       "    .dataframe tbody tr th:only-of-type {\n",
       "        vertical-align: middle;\n",
       "    }\n",
       "\n",
       "    .dataframe tbody tr th {\n",
       "        vertical-align: top;\n",
       "    }\n",
       "\n",
       "    .dataframe thead th {\n",
       "        text-align: right;\n",
       "    }\n",
       "</style>\n",
       "<table border=\"1\" class=\"dataframe\">\n",
       "  <thead>\n",
       "    <tr style=\"text-align: right;\">\n",
       "      <th></th>\n",
       "      <th>Open</th>\n",
       "      <th>High</th>\n",
       "      <th>Low</th>\n",
       "      <th>Close</th>\n",
       "      <th>Volume</th>\n",
       "    </tr>\n",
       "  </thead>\n",
       "  <tbody>\n",
       "    <tr>\n",
       "      <th>0</th>\n",
       "      <td>7.931429</td>\n",
       "      <td>7.961429</td>\n",
       "      <td>7.565714</td>\n",
       "      <td>7.640000</td>\n",
       "      <td>17239600</td>\n",
       "    </tr>\n",
       "    <tr>\n",
       "      <th>1</th>\n",
       "      <td>7.652857</td>\n",
       "      <td>7.657143</td>\n",
       "      <td>7.258571</td>\n",
       "      <td>7.358571</td>\n",
       "      <td>23753100</td>\n",
       "    </tr>\n",
       "    <tr>\n",
       "      <th>2</th>\n",
       "      <td>7.361429</td>\n",
       "      <td>7.672857</td>\n",
       "      <td>7.197143</td>\n",
       "      <td>7.617143</td>\n",
       "      <td>23290400</td>\n",
       "    </tr>\n",
       "    <tr>\n",
       "      <th>3</th>\n",
       "      <td>7.731429</td>\n",
       "      <td>7.757143</td>\n",
       "      <td>7.462857</td>\n",
       "      <td>7.485714</td>\n",
       "      <td>9955400</td>\n",
       "    </tr>\n",
       "    <tr>\n",
       "      <th>4</th>\n",
       "      <td>7.498571</td>\n",
       "      <td>7.742857</td>\n",
       "      <td>7.465714</td>\n",
       "      <td>7.614286</td>\n",
       "      <td>8180900</td>\n",
       "    </tr>\n",
       "    <tr>\n",
       "      <th>...</th>\n",
       "      <td>...</td>\n",
       "      <td>...</td>\n",
       "      <td>...</td>\n",
       "      <td>...</td>\n",
       "      <td>...</td>\n",
       "    </tr>\n",
       "    <tr>\n",
       "      <th>3267</th>\n",
       "      <td>296.179993</td>\n",
       "      <td>298.459991</td>\n",
       "      <td>291.910004</td>\n",
       "      <td>294.959991</td>\n",
       "      <td>4251100</td>\n",
       "    </tr>\n",
       "    <tr>\n",
       "      <th>3268</th>\n",
       "      <td>293.190002</td>\n",
       "      <td>293.570007</td>\n",
       "      <td>282.130005</td>\n",
       "      <td>284.170013</td>\n",
       "      <td>5778100</td>\n",
       "    </tr>\n",
       "    <tr>\n",
       "      <th>3269</th>\n",
       "      <td>281.920013</td>\n",
       "      <td>285.190002</td>\n",
       "      <td>273.410004</td>\n",
       "      <td>276.880005</td>\n",
       "      <td>5964400</td>\n",
       "    </tr>\n",
       "    <tr>\n",
       "      <th>3270</th>\n",
       "      <td>283.179993</td>\n",
       "      <td>295.500000</td>\n",
       "      <td>281.010010</td>\n",
       "      <td>291.119995</td>\n",
       "      <td>9588500</td>\n",
       "    </tr>\n",
       "    <tr>\n",
       "      <th>3271</th>\n",
       "      <td>285.529999</td>\n",
       "      <td>295.010010</td>\n",
       "      <td>283.220001</td>\n",
       "      <td>294.880005</td>\n",
       "      <td>7566900</td>\n",
       "    </tr>\n",
       "  </tbody>\n",
       "</table>\n",
       "<p>3272 rows × 5 columns</p>\n",
       "</div>"
      ],
      "text/plain": [
       "            Open        High         Low       Close    Volume\n",
       "0       7.931429    7.961429    7.565714    7.640000  17239600\n",
       "1       7.652857    7.657143    7.258571    7.358571  23753100\n",
       "2       7.361429    7.672857    7.197143    7.617143  23290400\n",
       "3       7.731429    7.757143    7.462857    7.485714   9955400\n",
       "4       7.498571    7.742857    7.465714    7.614286   8180900\n",
       "...          ...         ...         ...         ...       ...\n",
       "3267  296.179993  298.459991  291.910004  294.959991   4251100\n",
       "3268  293.190002  293.570007  282.130005  284.170013   5778100\n",
       "3269  281.920013  285.190002  273.410004  276.880005   5964400\n",
       "3270  283.179993  295.500000  281.010010  291.119995   9588500\n",
       "3271  285.529999  295.010010  283.220001  294.880005   7566900\n",
       "\n",
       "[3272 rows x 5 columns]"
      ]
     },
     "execution_count": 11,
     "metadata": {},
     "output_type": "execute_result"
    }
   ],
   "source": [
    "df"
   ]
  },
  {
   "cell_type": "markdown",
   "id": "ba6dbe00",
   "metadata": {},
   "source": [
    "Calculating Moving Average for 100 days..."
   ]
  },
  {
   "cell_type": "code",
   "execution_count": 12,
   "id": "c7ddce6f",
   "metadata": {},
   "outputs": [
    {
     "data": {
      "text/plain": [
       "0              NaN\n",
       "1              NaN\n",
       "2              NaN\n",
       "3              NaN\n",
       "4              NaN\n",
       "           ...    \n",
       "3267    260.837101\n",
       "3268    261.379701\n",
       "3269    261.880701\n",
       "3270    262.457001\n",
       "3271    263.106401\n",
       "Name: Close, Length: 3272, dtype: float64"
      ]
     },
     "execution_count": 12,
     "metadata": {},
     "output_type": "execute_result"
    }
   ],
   "source": [
    "ma100 = df.Close.rolling(100).mean()\n",
    "ma100"
   ]
  },
  {
   "cell_type": "code",
   "execution_count": 13,
   "id": "b2c53933",
   "metadata": {},
   "outputs": [
    {
     "data": {
      "text/plain": [
       "[]"
      ]
     },
     "execution_count": 13,
     "metadata": {},
     "output_type": "execute_result"
    },
    {
     "data": {
      "image/png": "[encoded data removed]",
      "text/plain": [
       "<Figure size 1200x600 with 1 Axes>"
      ]
     },
     "metadata": {},
     "output_type": "display_data"
    }
   ],
   "source": [
    "plt.figure(figsize = (12,6))\n",
    "plt.plot(df.Close)\n",
    "plt.plot(ma100, 'r')\n",
    "plt.plot()"
   ]
  },
  {
   "cell_type": "markdown",
   "id": "7231744b",
   "metadata": {},
   "source": [
    "Calculating and plotting moving average for 200 days..."
   ]
  },
  {
   "cell_type": "code",
   "execution_count": 14,
   "id": "1f996d8a",
   "metadata": {},
   "outputs": [
    {
     "data": {
      "text/plain": [
       "0             NaN\n",
       "1             NaN\n",
       "2             NaN\n",
       "3             NaN\n",
       "4             NaN\n",
       "          ...    \n",
       "3267    250.08970\n",
       "3268    249.80895\n",
       "3269    249.53830\n",
       "3270    249.27515\n",
       "3271    248.96190\n",
       "Name: Close, Length: 3272, dtype: float64"
      ]
     },
     "execution_count": 14,
     "metadata": {},
     "output_type": "execute_result"
    }
   ],
   "source": [
    "ma200 = df.Close.rolling(200).mean()\n",
    "ma200"
   ]
  },
  {
   "cell_type": "code",
   "execution_count": 15,
   "id": "38272161",
   "metadata": {},
   "outputs": [
    {
     "data": {
      "text/plain": [
       "[]"
      ]
     },
     "execution_count": 15,
     "metadata": {},
     "output_type": "execute_result"
    },
    {
     "data": {
      "image/png": "[encoded data removed]",
      "text/plain": [
       "<Figure size 1200x600 with 1 Axes>"
      ]
     },
     "metadata": {},
     "output_type": "display_data"
    }
   ],
   "source": [
    "plt.figure(figsize = (12,6))\n",
    "plt.plot(df.Close)\n",
    "plt.plot(ma100, 'r')\n",
    "plt.plot(ma200, 'g')\n",
    "plt.plot()"
   ]
  },
  {
   "cell_type": "code",
   "execution_count": 16,
   "id": "d64ca391",
   "metadata": {},
   "outputs": [
    {
     "data": {
      "text/plain": [
       "(3272, 5)"
      ]
     },
     "execution_count": 16,
     "metadata": {},
     "output_type": "execute_result"
    }
   ],
   "source": [
    "df.shape"
   ]
  },
  {
   "cell_type": "markdown",
   "id": "aac3dc00",
   "metadata": {},
   "source": [
    "Splitting Data into Training and Testing "
   ]
  },
  {
   "cell_type": "code",
   "execution_count": 17,
   "id": "1b4b2fdf",
   "metadata": {},
   "outputs": [
    {
     "name": "stdout",
     "output_type": "stream",
     "text": [
      "(2290, 1)\n",
      "(982, 1)\n"
     ]
    }
   ],
   "source": [
    "data_train = pd.DataFrame(df['Close'][0:int(len(df)*0.7)])\n",
    "data_test = pd.DataFrame(df['Close'][int(len(df)*0.7): int(len(df))])\n",
    "\n",
    "print(data_train.shape)\n",
    "print(data_test.shape)"
   ]
  },
  {
   "cell_type": "code",
   "execution_count": 18,
   "id": "5aa2f659",
   "metadata": {},
   "outputs": [
    {
     "data": {
      "text/html": [
       "<div>\n",
       "<style scoped>\n",
       "    .dataframe tbody tr th:only-of-type {\n",
       "        vertical-align: middle;\n",
       "    }\n",
       "\n",
       "    .dataframe tbody tr th {\n",
       "        vertical-align: top;\n",
       "    }\n",
       "\n",
       "    .dataframe thead th {\n",
       "        text-align: right;\n",
       "    }\n",
       "</style>\n",
       "<table border=\"1\" class=\"dataframe\">\n",
       "  <thead>\n",
       "    <tr style=\"text-align: right;\">\n",
       "      <th></th>\n",
       "      <th>Close</th>\n",
       "    </tr>\n",
       "  </thead>\n",
       "  <tbody>\n",
       "    <tr>\n",
       "      <th>0</th>\n",
       "      <td>7.640000</td>\n",
       "    </tr>\n",
       "    <tr>\n",
       "      <th>1</th>\n",
       "      <td>7.358571</td>\n",
       "    </tr>\n",
       "    <tr>\n",
       "      <th>2</th>\n",
       "      <td>7.617143</td>\n",
       "    </tr>\n",
       "    <tr>\n",
       "      <th>3</th>\n",
       "      <td>7.485714</td>\n",
       "    </tr>\n",
       "    <tr>\n",
       "      <th>4</th>\n",
       "      <td>7.614286</td>\n",
       "    </tr>\n",
       "  </tbody>\n",
       "</table>\n",
       "</div>"
      ],
      "text/plain": [
       "      Close\n",
       "0  7.640000\n",
       "1  7.358571\n",
       "2  7.617143\n",
       "3  7.485714\n",
       "4  7.614286"
      ]
     },
     "execution_count": 18,
     "metadata": {},
     "output_type": "execute_result"
    }
   ],
   "source": [
    "data_train.head()"
   ]
  },
  {
   "cell_type": "code",
   "execution_count": 19,
   "id": "92af0606",
   "metadata": {},
   "outputs": [
    {
     "data": {
      "text/html": [
       "<div>\n",
       "<style scoped>\n",
       "    .dataframe tbody tr th:only-of-type {\n",
       "        vertical-align: middle;\n",
       "    }\n",
       "\n",
       "    .dataframe tbody tr th {\n",
       "        vertical-align: top;\n",
       "    }\n",
       "\n",
       "    .dataframe thead th {\n",
       "        text-align: right;\n",
       "    }\n",
       "</style>\n",
       "<table border=\"1\" class=\"dataframe\">\n",
       "  <thead>\n",
       "    <tr style=\"text-align: right;\">\n",
       "      <th></th>\n",
       "      <th>Close</th>\n",
       "    </tr>\n",
       "  </thead>\n",
       "  <tbody>\n",
       "    <tr>\n",
       "      <th>3267</th>\n",
       "      <td>294.959991</td>\n",
       "    </tr>\n",
       "    <tr>\n",
       "      <th>3268</th>\n",
       "      <td>284.170013</td>\n",
       "    </tr>\n",
       "    <tr>\n",
       "      <th>3269</th>\n",
       "      <td>276.880005</td>\n",
       "    </tr>\n",
       "    <tr>\n",
       "      <th>3270</th>\n",
       "      <td>291.119995</td>\n",
       "    </tr>\n",
       "    <tr>\n",
       "      <th>3271</th>\n",
       "      <td>294.880005</td>\n",
       "    </tr>\n",
       "  </tbody>\n",
       "</table>\n",
       "</div>"
      ],
      "text/plain": [
       "           Close\n",
       "3267  294.959991\n",
       "3268  284.170013\n",
       "3269  276.880005\n",
       "3270  291.119995\n",
       "3271  294.880005"
      ]
     },
     "execution_count": 19,
     "metadata": {},
     "output_type": "execute_result"
    }
   ],
   "source": [
    "data_test.tail()"
   ]
  },
  {
   "cell_type": "markdown",
   "id": "c45680d1",
   "metadata": {},
   "source": [
    "Scaling down the data using MINMAX Scaler for fitting into LSTM Model"
   ]
  },
  {
   "cell_type": "code",
   "execution_count": 20,
   "id": "db9b572c",
   "metadata": {},
   "outputs": [],
   "source": [
    "from sklearn.preprocessing import MinMaxScaler\n",
    "scaler = MinMaxScaler(feature_range=(0,1))"
   ]
  },
  {
   "cell_type": "code",
   "execution_count": 21,
   "id": "f32c0385",
   "metadata": {},
   "outputs": [
    {
     "data": {
      "text/plain": [
       "array([[1.50850057e-03],\n",
       "       [8.25340386e-04],\n",
       "       [1.45301657e-03],\n",
       "       ...,\n",
       "       [8.46680946e-01],\n",
       "       [8.37893514e-01],\n",
       "       [8.19736007e-01]])"
      ]
     },
     "execution_count": 21,
     "metadata": {},
     "output_type": "execute_result"
    }
   ],
   "source": [
    "data_train_array = scaler.fit_transform(data_train)\n",
    "data_train_array"
   ]
  },
  {
   "cell_type": "code",
   "execution_count": 22,
   "id": "3a218bdb",
   "metadata": {},
   "outputs": [],
   "source": [
    "x_train = []\n",
    "y_train = []\n",
    "\n",
    "for i in range(100, data_train_array.shape[0]):\n",
    "    x_train.append(data_train_array[i-100: i])\n",
    "    y_train.append(data_train_array[i, 0])\n",
    "\n",
    "x_train, y_train = np.array(x_train), np.array(y_train)"
   ]
  },
  {
   "cell_type": "code",
   "execution_count": 23,
   "id": "4d05c98f",
   "metadata": {},
   "outputs": [
    {
     "data": {
      "text/plain": [
       "(2190, 100, 1)"
      ]
     },
     "execution_count": 23,
     "metadata": {},
     "output_type": "execute_result"
    }
   ],
   "source": [
    "x_train.shape"
   ]
  },
  {
   "cell_type": "code",
   "execution_count": 24,
   "id": "8ced6e06",
   "metadata": {},
   "outputs": [],
   "source": [
    "import tensorflow as tf\n",
    "from keras.models import Sequential\n",
    "from keras.layers import Dense, Dropout, LSTM\n"
   ]
  },
  {
   "cell_type": "code",
   "execution_count": 29,
   "id": "7708932b",
   "metadata": {},
   "outputs": [],
   "source": [
    "#Layer 1\n",
    "model = Sequential()\n",
    "model.add(LSTM(units = 50, activation='relu', return_sequences= True, \n",
    "               input_shape = (x_train.shape[1], 1)))\n",
    "model.add(Dropout(0.2))\n",
    "\n",
    "#Layer 2\n",
    "model = Sequential()\n",
    "model.add(LSTM(units = 60, activation='relu', return_sequences= True))\n",
    "\n",
    "model.add(Dropout(0.3))\n",
    "\n",
    "#Layer 3\n",
    "model = Sequential()\n",
    "model.add(LSTM(units = 80, activation='relu', return_sequences= True))\n",
    "\n",
    "model.add(Dropout(0.4))\n",
    "\n",
    "\n",
    "#L4\n",
    "model = Sequential()\n",
    "model.add(LSTM(units = 120, activation='relu'))\n",
    "model.add(Dropout(0.5))\n",
    "\n",
    "#CONNECT\n",
    "model.add(Dense(units = 1))"
   ]
  },
  {
   "cell_type": "code",
   "execution_count": 35,
   "id": "e4c9c5f3",
   "metadata": {},
   "outputs": [
    {
     "name": "stdout",
     "output_type": "stream",
     "text": [
      "Epoch 1/50\n",
      "69/69 [==============================] - 5s 50ms/step - loss: 0.0109\n",
      "Epoch 2/50\n",
      "69/69 [==============================] - 3s 45ms/step - loss: 0.0038\n",
      "Epoch 3/50\n",
      "69/69 [==============================] - 4s 52ms/step - loss: 0.0034\n",
      "Epoch 4/50\n",
      "69/69 [==============================] - 3s 45ms/step - loss: 0.0024\n",
      "Epoch 5/50\n",
      "69/69 [==============================] - 3s 48ms/step - loss: 0.0026\n",
      "Epoch 6/50\n",
      "69/69 [==============================] - 3s 49ms/step - loss: 0.0026\n",
      "Epoch 7/50\n",
      "69/69 [==============================] - 3s 45ms/step - loss: 0.0026\n",
      "Epoch 8/50\n",
      "69/69 [==============================] - 3s 46ms/step - loss: 0.0022\n",
      "Epoch 9/50\n",
      "69/69 [==============================] - 3s 46ms/step - loss: 0.0022\n",
      "Epoch 10/50\n",
      "69/69 [==============================] - 3s 45ms/step - loss: 0.0022\n",
      "Epoch 11/50\n",
      "69/69 [==============================] - 3s 45ms/step - loss: 0.0023\n",
      "Epoch 12/50\n",
      "69/69 [==============================] - 3s 45ms/step - loss: 0.0022\n",
      "Epoch 13/50\n",
      "69/69 [==============================] - 3s 45ms/step - loss: 0.0024\n",
      "Epoch 14/50\n",
      "69/69 [==============================] - 3s 46ms/step - loss: 0.0020\n",
      "Epoch 15/50\n",
      "69/69 [==============================] - 3s 45ms/step - loss: 0.0019\n",
      "Epoch 16/50\n",
      "69/69 [==============================] - 3s 44ms/step - loss: 0.0021\n",
      "Epoch 17/50\n",
      "69/69 [==============================] - 3s 45ms/step - loss: 0.0022\n",
      "Epoch 18/50\n",
      "69/69 [==============================] - 3s 47ms/step - loss: 0.0020\n",
      "Epoch 19/50\n",
      "69/69 [==============================] - 3s 46ms/step - loss: 0.0022\n",
      "Epoch 20/50\n",
      "69/69 [==============================] - 3s 49ms/step - loss: 0.0021\n",
      "Epoch 21/50\n",
      "69/69 [==============================] - 3s 46ms/step - loss: 0.0019\n",
      "Epoch 22/50\n",
      "69/69 [==============================] - 3s 46ms/step - loss: 0.0019\n",
      "Epoch 23/50\n",
      "69/69 [==============================] - 3s 47ms/step - loss: 0.0018\n",
      "Epoch 24/50\n",
      "69/69 [==============================] - 3s 49ms/step - loss: 0.0020\n",
      "Epoch 25/50\n",
      "69/69 [==============================] - 3s 49ms/step - loss: 0.0020\n",
      "Epoch 26/50\n",
      "69/69 [==============================] - 3s 50ms/step - loss: 0.0021\n",
      "Epoch 27/50\n",
      "69/69 [==============================] - 3s 47ms/step - loss: 0.0019\n",
      "Epoch 28/50\n",
      "69/69 [==============================] - 4s 56ms/step - loss: 0.0018\n",
      "Epoch 29/50\n",
      "69/69 [==============================] - 4s 52ms/step - loss: 0.0019\n",
      "Epoch 30/50\n",
      "69/69 [==============================] - 3s 45ms/step - loss: 0.0018\n",
      "Epoch 31/50\n",
      "69/69 [==============================] - 3s 50ms/step - loss: 0.0018\n",
      "Epoch 32/50\n",
      "69/69 [==============================] - 4s 53ms/step - loss: 0.0018\n",
      "Epoch 33/50\n",
      "69/69 [==============================] - 3s 46ms/step - loss: 0.0023\n",
      "Epoch 34/50\n",
      "69/69 [==============================] - 4s 54ms/step - loss: 0.0022\n",
      "Epoch 35/50\n",
      "69/69 [==============================] - 3s 46ms/step - loss: 0.0019\n",
      "Epoch 36/50\n",
      "69/69 [==============================] - 3s 44ms/step - loss: 0.0016\n",
      "Epoch 37/50\n",
      "69/69 [==============================] - 3s 45ms/step - loss: 0.0021\n",
      "Epoch 38/50\n",
      "69/69 [==============================] - 3s 47ms/step - loss: 0.0019\n",
      "Epoch 39/50\n",
      "69/69 [==============================] - 3s 45ms/step - loss: 0.0019\n",
      "Epoch 40/50\n",
      "69/69 [==============================] - 3s 45ms/step - loss: 0.0020\n",
      "Epoch 41/50\n",
      "69/69 [==============================] - 3s 45ms/step - loss: 0.0023\n",
      "Epoch 42/50\n",
      "69/69 [==============================] - 3s 44ms/step - loss: 0.0018\n",
      "Epoch 43/50\n",
      "69/69 [==============================] - 3s 50ms/step - loss: 0.0020\n",
      "Epoch 44/50\n",
      "69/69 [==============================] - 3s 51ms/step - loss: 0.0017\n",
      "Epoch 45/50\n",
      "69/69 [==============================] - 3s 47ms/step - loss: 0.0020\n",
      "Epoch 46/50\n",
      "69/69 [==============================] - 3s 50ms/step - loss: 0.0021\n",
      "Epoch 47/50\n",
      "69/69 [==============================] - 5s 67ms/step - loss: 0.0022\n",
      "Epoch 48/50\n",
      "69/69 [==============================] - 4s 57ms/step - loss: 0.0021\n",
      "Epoch 49/50\n",
      "69/69 [==============================] - 4s 56ms/step - loss: 0.0022\n",
      "Epoch 50/50\n",
      "69/69 [==============================] - 4s 52ms/step - loss: 0.0020\n"
     ]
    },
    {
     "data": {
      "text/plain": [
       "<keras.callbacks.History at 0x7f894b6ed670>"
      ]
     },
     "execution_count": 35,
     "metadata": {},
     "output_type": "execute_result"
    }
   ],
   "source": [
    "# Compile the model with optimizer and loss function\n",
    "model.compile(optimizer='adam', loss='mean_squared_error')\n",
    "model.fit(x_train, y_train, epochs = 50)"
   ]
  },
  {
   "cell_type": "code",
   "execution_count": 36,
   "id": "57f0da29",
   "metadata": {},
   "outputs": [
    {
     "name": "stdout",
     "output_type": "stream",
     "text": [
      "Model: \"sequential_8\"\n",
      "_________________________________________________________________\n",
      " Layer (type)                Output Shape              Param #   \n",
      "=================================================================\n",
      " lstm_7 (LSTM)               (None, 120)               58560     \n",
      "                                                                 \n",
      " dropout_7 (Dropout)         (None, 120)               0         \n",
      "                                                                 \n",
      " dense_1 (Dense)             (None, 1)                 121       \n",
      "                                                                 \n",
      "=================================================================\n",
      "Total params: 58,681\n",
      "Trainable params: 58,681\n",
      "Non-trainable params: 0\n",
      "_________________________________________________________________\n"
     ]
    }
   ],
   "source": [
    "model.summary()"
   ]
  },
  {
   "cell_type": "code",
   "execution_count": 37,
   "id": "d8d8a0d3",
   "metadata": {},
   "outputs": [],
   "source": [
    "model.save('keras_model.h5')"
   ]
  },
  {
   "cell_type": "code",
   "execution_count": 96,
   "id": "dc1e7e4c",
   "metadata": {},
   "outputs": [],
   "source": [
    "past_100_days = data_train.tail(100)\n",
    "final_df = pd.concat([past_100_days, data_test], ignore_index=True)"
   ]
  },
  {
   "cell_type": "code",
   "execution_count": 97,
   "id": "9633ba22",
   "metadata": {},
   "outputs": [
    {
     "data": {
      "text/html": [
       "<div>\n",
       "<style scoped>\n",
       "    .dataframe tbody tr th:only-of-type {\n",
       "        vertical-align: middle;\n",
       "    }\n",
       "\n",
       "    .dataframe tbody tr th {\n",
       "        vertical-align: top;\n",
       "    }\n",
       "\n",
       "    .dataframe thead th {\n",
       "        text-align: right;\n",
       "    }\n",
       "</style>\n",
       "<table border=\"1\" class=\"dataframe\">\n",
       "  <thead>\n",
       "    <tr style=\"text-align: right;\">\n",
       "      <th></th>\n",
       "      <th>Close</th>\n",
       "    </tr>\n",
       "  </thead>\n",
       "  <tbody>\n",
       "    <tr>\n",
       "      <th>0</th>\n",
       "      <td>364.559998</td>\n",
       "    </tr>\n",
       "    <tr>\n",
       "      <th>1</th>\n",
       "      <td>350.350006</td>\n",
       "    </tr>\n",
       "    <tr>\n",
       "      <th>2</th>\n",
       "      <td>367.649994</td>\n",
       "    </tr>\n",
       "    <tr>\n",
       "      <th>3</th>\n",
       "      <td>366.959991</td>\n",
       "    </tr>\n",
       "    <tr>\n",
       "      <th>4</th>\n",
       "      <td>365.359985</td>\n",
       "    </tr>\n",
       "  </tbody>\n",
       "</table>\n",
       "</div>"
      ],
      "text/plain": [
       "        Close\n",
       "0  364.559998\n",
       "1  350.350006\n",
       "2  367.649994\n",
       "3  366.959991\n",
       "4  365.359985"
      ]
     },
     "execution_count": 97,
     "metadata": {},
     "output_type": "execute_result"
    }
   ],
   "source": [
    "final_df.head()"
   ]
  },
  {
   "cell_type": "code",
   "execution_count": 98,
   "id": "71524923",
   "metadata": {},
   "outputs": [],
   "source": [
    "input_data = scaler.fit_transform(final_df)"
   ]
  },
  {
   "cell_type": "code",
   "execution_count": 99,
   "id": "2f147f26",
   "metadata": {},
   "outputs": [
    {
     "data": {
      "text/plain": [
       "array([[0.3772748 ],\n",
       "       [0.35022464],\n",
       "       [0.38315693],\n",
       "       ...,\n",
       "       [0.21036703],\n",
       "       [0.2374743 ],\n",
       "       [0.24463186]])"
      ]
     },
     "execution_count": 99,
     "metadata": {},
     "output_type": "execute_result"
    }
   ],
   "source": [
    "input_data"
   ]
  },
  {
   "cell_type": "code",
   "execution_count": 100,
   "id": "3ad2e0ef",
   "metadata": {},
   "outputs": [
    {
     "data": {
      "text/plain": [
       "(1082, 1)"
      ]
     },
     "execution_count": 100,
     "metadata": {},
     "output_type": "execute_result"
    }
   ],
   "source": [
    "input_data.shape"
   ]
  },
  {
   "cell_type": "code",
   "execution_count": 101,
   "id": "afde69b8",
   "metadata": {},
   "outputs": [],
   "source": [
    "x_test = []\n",
    "y_test = []\n",
    "\n",
    "for i in range(100, input_data.shape[0]):\n",
    "    x_test.append(input_data[i-100:i])\n",
    "    y_test.append(input_data[i:0])"
   ]
  },
  {
   "cell_type": "code",
   "execution_count": 102,
   "id": "84ca61ef",
   "metadata": {},
   "outputs": [
    {
     "name": "stdout",
     "output_type": "stream",
     "text": [
      "(982, 100, 1)\n",
      "(982, 0, 1)\n"
     ]
    }
   ],
   "source": [
    "x_test,  y_test = np.array(x_test), np.array(y_test)\n",
    "print(x_test.shape)\n",
    "print(y_test.shape)\n"
   ]
  },
  {
   "cell_type": "code",
   "execution_count": 103,
   "id": "5bfbcb0d",
   "metadata": {},
   "outputs": [
    {
     "name": "stdout",
     "output_type": "stream",
     "text": [
      "31/31 [==============================] - 1s 18ms/step\n"
     ]
    }
   ],
   "source": [
    "y_predicted = model.predict(x_test)"
   ]
  },
  {
   "cell_type": "code",
   "execution_count": 104,
   "id": "b26e448b",
   "metadata": {},
   "outputs": [
    {
     "data": {
      "text/plain": [
       "(982, 1)"
      ]
     },
     "execution_count": 104,
     "metadata": {},
     "output_type": "execute_result"
    }
   ],
   "source": [
    "y_predicted.shape"
   ]
  },
  {
   "cell_type": "code",
   "execution_count": 105,
   "id": "5ce02f2f",
   "metadata": {},
   "outputs": [
    {
     "data": {
      "text/plain": [
       "array([0.0019036])"
      ]
     },
     "execution_count": 105,
     "metadata": {},
     "output_type": "execute_result"
    }
   ],
   "source": [
    "scaler.scale_"
   ]
  },
  {
   "cell_type": "code",
   "execution_count": 106,
   "id": "26102632",
   "metadata": {},
   "outputs": [],
   "source": [
    "scale_factor = 1/0.0019036\n",
    "y_predicted = y_predicted * scale_factor\n",
    "y_test = y_test * scale_factor"
   ]
  },
  {
   "cell_type": "code",
   "execution_count": null,
   "id": "91fb79a4",
   "metadata": {},
   "outputs": [],
   "source": []
  },
  {
   "cell_type": "code",
   "execution_count": null,
   "id": "202eb107",
   "metadata": {},
   "outputs": [],
   "source": []
  }
 ],
 "metadata": {
  "kernelspec": {
   "display_name": "Python 3 (ipykernel)",
   "language": "python",
   "name": "python3"
  },
  "language_info": {
   "codemirror_mode": {
    "name": "ipython",
    "version": 3
   },
   "file_extension": ".py",
   "mimetype": "text/x-python",
   "name": "python",
   "nbconvert_exporter": "python",
   "pygments_lexer": "ipython3",
   "version": "3.9.15"
  }
 },
 "nbformat": 4,
 "nbformat_minor": 5
}
